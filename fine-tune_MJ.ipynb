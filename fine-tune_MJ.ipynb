{
 "cells": [
  {
   "cell_type": "code",
   "execution_count": 1,
   "metadata": {},
   "outputs": [
    {
     "name": "stdout",
     "output_type": "stream",
     "text": [
      "Requirement already satisfied: openai in c:\\users\\b00346\\appdata\\local\\miniconda3\\envs\\fine-tune-openai\\lib\\site-packages (1.55.1)\n",
      "Requirement already satisfied: anyio<5,>=3.5.0 in c:\\users\\b00346\\appdata\\local\\miniconda3\\envs\\fine-tune-openai\\lib\\site-packages (from openai) (4.6.2)\n",
      "Requirement already satisfied: distro<2,>=1.7.0 in c:\\users\\b00346\\appdata\\local\\miniconda3\\envs\\fine-tune-openai\\lib\\site-packages (from openai) (1.9.0)\n",
      "Requirement already satisfied: httpx<1,>=0.23.0 in c:\\users\\b00346\\appdata\\local\\miniconda3\\envs\\fine-tune-openai\\lib\\site-packages (from openai) (0.27.0)\n",
      "Requirement already satisfied: jiter<1,>=0.4.0 in c:\\users\\b00346\\appdata\\local\\miniconda3\\envs\\fine-tune-openai\\lib\\site-packages (from openai) (0.7.1)\n",
      "Requirement already satisfied: pydantic<3,>=1.9.0 in c:\\users\\b00346\\appdata\\local\\miniconda3\\envs\\fine-tune-openai\\lib\\site-packages (from openai) (2.10.1)\n",
      "Requirement already satisfied: sniffio in c:\\users\\b00346\\appdata\\local\\miniconda3\\envs\\fine-tune-openai\\lib\\site-packages (from openai) (1.3.0)\n",
      "Requirement already satisfied: tqdm>4 in c:\\users\\b00346\\appdata\\local\\miniconda3\\envs\\fine-tune-openai\\lib\\site-packages (from openai) (4.67.1)\n",
      "Requirement already satisfied: typing-extensions<5,>=4.11 in c:\\users\\b00346\\appdata\\roaming\\python\\python310\\site-packages (from openai) (4.12.2)\n",
      "Requirement already satisfied: idna>=2.8 in c:\\users\\b00346\\appdata\\local\\miniconda3\\envs\\fine-tune-openai\\lib\\site-packages (from anyio<5,>=3.5.0->openai) (3.7)\n",
      "Requirement already satisfied: exceptiongroup>=1.0.2 in c:\\users\\b00346\\appdata\\roaming\\python\\python310\\site-packages (from anyio<5,>=3.5.0->openai) (1.2.2)\n",
      "Requirement already satisfied: certifi in c:\\users\\b00346\\appdata\\local\\miniconda3\\envs\\fine-tune-openai\\lib\\site-packages (from httpx<1,>=0.23.0->openai) (2024.8.30)\n",
      "Requirement already satisfied: httpcore==1.* in c:\\users\\b00346\\appdata\\local\\miniconda3\\envs\\fine-tune-openai\\lib\\site-packages (from httpx<1,>=0.23.0->openai) (1.0.2)\n",
      "Requirement already satisfied: h11<0.15,>=0.13 in c:\\users\\b00346\\appdata\\local\\miniconda3\\envs\\fine-tune-openai\\lib\\site-packages (from httpcore==1.*->httpx<1,>=0.23.0->openai) (0.14.0)\n",
      "Requirement already satisfied: annotated-types>=0.6.0 in c:\\users\\b00346\\appdata\\local\\miniconda3\\envs\\fine-tune-openai\\lib\\site-packages (from pydantic<3,>=1.9.0->openai) (0.7.0)\n",
      "Requirement already satisfied: pydantic-core==2.27.1 in c:\\users\\b00346\\appdata\\local\\miniconda3\\envs\\fine-tune-openai\\lib\\site-packages (from pydantic<3,>=1.9.0->openai) (2.27.1)\n",
      "Requirement already satisfied: colorama in c:\\users\\b00346\\appdata\\roaming\\python\\python310\\site-packages (from tqdm>4->openai) (0.4.6)\n",
      "Note: you may need to restart the kernel to use updated packages.\n"
     ]
    }
   ],
   "source": [
    "pip install openai"
   ]
  },
  {
   "cell_type": "code",
   "execution_count": 1,
   "metadata": {},
   "outputs": [],
   "source": [
    "from openai import OpenAI"
   ]
  },
  {
   "cell_type": "code",
   "execution_count": 5,
   "metadata": {},
   "outputs": [],
   "source": [
    "import os"
   ]
  },
  {
   "cell_type": "code",
   "execution_count": 2,
   "metadata": {},
   "outputs": [
    {
     "data": {
      "text/plain": [
       "['config.ini']"
      ]
     },
     "execution_count": 2,
     "metadata": {},
     "output_type": "execute_result"
    }
   ],
   "source": [
    "# Config Parse\n",
    "from configparser import ConfigParser\n",
    "config = ConfigParser()\n",
    "config.read(\"config.ini\")\n",
    "\n",
    "\n",
    "\n"
   ]
  },
  {
   "cell_type": "code",
   "execution_count": null,
   "metadata": {},
   "outputs": [],
   "source": [
    "\n",
    "key = config[\"OPEN_AI\"][\"API_KEY\"]\n"
   ]
  },
  {
   "cell_type": "code",
   "execution_count": 4,
   "metadata": {},
   "outputs": [],
   "source": [
    "client = OpenAI(api_key=key)"
   ]
  },
  {
   "cell_type": "code",
   "execution_count": 4,
   "metadata": {},
   "outputs": [
    {
     "data": {
      "text/plain": [
       "FileObject(id='file-RpRJbhGZ7o6DnzqnF3hbfa', bytes=28838, created_at=1733127943, filename='train.jsonl', object='file', purpose='fine-tune', status='processed', status_details=None)"
      ]
     },
     "execution_count": 4,
     "metadata": {},
     "output_type": "execute_result"
    }
   ],
   "source": [
    "client.files.create(file=open(\"train.jsonl\",\"rb\"),\n",
    "                    purpose=\"fine-tune\")"
   ]
  },
  {
   "cell_type": "code",
   "execution_count": 19,
   "metadata": {},
   "outputs": [
    {
     "data": {
      "text/plain": [
       "FileObject(id='file-5MWDdu9axUJxHX6xkxiP2i', bytes=5700, created_at=1732771265, filename='test.jsonl', object='file', purpose='fine-tune', status='processed', status_details=None)"
      ]
     },
     "execution_count": 19,
     "metadata": {},
     "output_type": "execute_result"
    }
   ],
   "source": [
    "client.files.create(file=open(\"test.jsonl\",\"rb\"),\n",
    "                    purpose=\"fine-tune\")"
   ]
  },
  {
   "cell_type": "code",
   "execution_count": 5,
   "metadata": {},
   "outputs": [
    {
     "data": {
      "text/plain": [
       "FineTuningJob(id='ftjob-MiKd0K4pwwzuej3npqCATxie', created_at=1733211807, error=Error(code=None, message=None, param=None), fine_tuned_model=None, finished_at=None, hyperparameters=Hyperparameters(n_epochs=1, batch_size='auto', learning_rate_multiplier='auto'), model='gpt-3.5-turbo-0125', object='fine_tuning.job', organization_id='org-eZdslvr6GNDXgj8QnVgZmTaX', result_files=[], seed=1978209615, status='validating_files', trained_tokens=None, training_file='file-2dcHujLBHLJi9UvT15dNwN', validation_file='file-Wqyap6GufgkEzD88A4zdAR', estimated_finish=None, integrations=[], user_provided_suffix=None)"
      ]
     },
     "execution_count": 5,
     "metadata": {},
     "output_type": "execute_result"
    }
   ],
   "source": [
    "client.fine_tuning.jobs.create(model = \"gpt-3.5-turbo\",\n",
    "                               training_file=\"file-2dcHujLBHLJi9UvT15dNwN\",\n",
    "                               hyperparameters={\n",
    "                                   \"n_epochs\":1\n",
    "                               },\n",
    "                               validation_file=\"file-Wqyap6GufgkEzD88A4zdAR\")"
   ]
  },
  {
   "cell_type": "code",
   "execution_count": 10,
   "metadata": {},
   "outputs": [
    {
     "name": "stdout",
     "output_type": "stream",
     "text": [
      "ChatCompletionMessage(content='ZHAC1-5.2-O / ZHAC1-5.2-I', refusal=None, role='assistant', audio=None, function_call=None, tool_calls=None)\n"
     ]
    }
   ],
   "source": [
    "completion = client.chat.completions.create(\n",
    "  model=\"ft:gpt-3.5-turbo-0125:personal:microjet-v2:AYROs5Ka\",\n",
    "  messages=[\n",
    "    {\"role\": \"system\", \"content\": \"You are a professional air conditioning technician who provides adviceon choosing suitable air conditioning models. below are the air conditioner models you can recommend: zhac1-2.9-o / zhac1-2.9-i, zhac1-3.6-o / zhac1-3.6-i, zhac1-4.1-o / zhac1-4.1-i, zhac1-5.2-o / zhac1-5.2-i, zhac1-6.3-o / zhac1-6.3-i, zhac1-7.3-o / zhac1-7.3-i.\"},  \n",
    "    {\"role\": \"user\", \"content\": \"For my game room that is around 19 pings (approximately 63 square meters), which model do you recommend?\"}\n",
    "  ]\n",
    ")\n",
    "print(completion.choices[0].message)"
   ]
  },
  {
   "cell_type": "code",
   "execution_count": 5,
   "metadata": {},
   "outputs": [
    {
     "name": "stdout",
     "output_type": "stream",
     "text": [
      "ChatCompletionMessage(content='ZHAC1-5.2-O / ZHAC1-5.2-I', refusal=None, role='assistant', audio=None, function_call=None, tool_calls=None)\n"
     ]
    }
   ],
   "source": [
    "completion = client.chat.completions.create(\n",
    "  model=\"ft:gpt-3.5-turbo-0125:personal:microjet-v2:AYROs5Ka\",\n",
    "  messages=[\n",
    "    {\"role\": \"system\", \"content\": \"You are a professional air conditioning technician who provides adviceon choosing suitable air conditioning models. below are the air conditioner models you can recommend: zhac1-2.9-o / zhac1-2.9-i, zhac1-3.6-o / zhac1-3.6-i, zhac1-4.1-o / zhac1-4.1-i, zhac1-5.2-o / zhac1-5.2-i, zhac1-6.3-o / zhac1-6.3-i, zhac1-7.3-o / zhac1-7.3-i.\"},  \n",
    "    {\"role\": \"user\", \"content\": \"My home office is approximately 18 pings (around 60 square meters). Which model do you recommend?\"}\n",
    "  ]\n",
    ")\n",
    "print(completion.choices[0].message)"
   ]
  },
  {
   "cell_type": "code",
   "execution_count": 12,
   "metadata": {},
   "outputs": [
    {
     "name": "stdout",
     "output_type": "stream",
     "text": [
      "ChatCompletionMessage(content='For a game room of around 63 square meters, I recommend the zhac1-6.3-o / zhac1-6.3-i model. This model is suitable for larger rooms and will provide efficient cooling for a space of that size. It offers a good balance between cooling capacity and energy efficiency, making it a suitable choice for your game room.', refusal=None, role='assistant', audio=None, function_call=None, tool_calls=None)\n"
     ]
    }
   ],
   "source": [
    "completion = client.chat.completions.create(\n",
    "  model=\"gpt-3.5-turbo-0125\",\n",
    "  messages=[\n",
    "    {\"role\": \"system\", \"content\": \"You are a professional air conditioning technician who provides adviceon choosing suitable air conditioning models. below are the air conditioner models you can recommend: zhac1-2.9-o / zhac1-2.9-i, zhac1-3.6-o / zhac1-3.6-i, zhac1-4.1-o / zhac1-4.1-i, zhac1-5.2-o / zhac1-5.2-i, zhac1-6.3-o / zhac1-6.3-i, zhac1-7.3-o / zhac1-7.3-i.\"},  \n",
    "    {\"role\": \"user\", \"content\": \"For my game room that is around 19 pings (approximately 63 square meters), which model do you recommend?\"}\n",
    "  ]\n",
    ")\n",
    "print(completion.choices[0].message)"
   ]
  },
  {
   "cell_type": "code",
   "execution_count": 11,
   "metadata": {},
   "outputs": [
    {
     "data": {
      "text/plain": [
       "FineTuningJob(id='ftjob-ku7ytdtAEdx5jxthRANQTqr0', created_at=1723105710, error=Error(code=None, message=None, param=None), fine_tuned_model=None, finished_at=None, hyperparameters=Hyperparameters(n_epochs=1, batch_size=1, learning_rate_multiplier=2), model='gpt-3.5-turbo-0125', object='fine_tuning.job', organization_id='org-15gNPgTlQG2a0reTC9WiKoCK', result_files=[], seed=1125392506, status='validating_files', trained_tokens=None, training_file='file-lIyi8uMGNxXxxIGWxUD2S02B', validation_file='file-aDNmk2N5cCCiDvpTuIe0el3g', estimated_finish=None, integrations=[], user_provided_suffix=None)"
      ]
     },
     "execution_count": 11,
     "metadata": {},
     "output_type": "execute_result"
    }
   ],
   "source": [
    "client.fine_tuning.jobs.retrieve(\"ftjob-ku7ytdtAEdx5jxthRANQTqr0\")"
   ]
  },
  {
   "cell_type": "code",
   "execution_count": 4,
   "metadata": {},
   "outputs": [
    {
     "data": {
      "text/plain": [
       "SyncCursorPage[FineTuningJobEvent](data=[FineTuningJobEvent(id='ftevent-pK4MYP6AwyAXKJlriCckGK7x', created_at=1723106558, level='info', message='The job has successfully completed', object='fine_tuning.job.event', data={}, type='message'), FineTuningJobEvent(id='ftevent-4g0lPg23QLED9rO7ARW7ThlL', created_at=1723106555, level='info', message='New fine-tuned model created: ft:gpt-3.5-turbo-0125:bis::9tt19es9', object='fine_tuning.job.event', data={}, type='message'), FineTuningJobEvent(id='ftevent-AfGo842obC0s7jslAnRwCT9D', created_at=1723106540, level='info', message='Step 150/150: training loss=0.00, validation loss=0.00, full validation loss=0.01', object='fine_tuning.job.event', data={'step': 150, 'train_loss': 1.271565793103946e-06, 'valid_loss': 1.2715657552083333e-06, 'total_steps': 150, 'full_valid_loss': 0.013346887770153228, 'train_mean_token_accuracy': 1.0, 'valid_mean_token_accuracy': 1.0, 'full_valid_mean_token_accuracy': 0.996031746031746}, type='metrics'), FineTuningJobEvent(id='ftevent-ar1XqhLAxJUbu9uWcLEf1Nfr', created_at=1723106525, level='info', message='Step 149/150: training loss=0.00', object='fine_tuning.job.event', data={'step': 149, 'train_loss': 1.271565793103946e-06, 'total_steps': 150, 'train_mean_token_accuracy': 1.0}, type='metrics'), FineTuningJobEvent(id='ftevent-9WLGJ2W8MoL5RCZp7Td9EOan', created_at=1723106521, level='info', message='Step 148/150: training loss=0.00', object='fine_tuning.job.event', data={'step': 148, 'train_loss': 9.5367431640625e-07, 'total_steps': 150, 'train_mean_token_accuracy': 1.0}, type='metrics')], object='list', has_more=True)"
      ]
     },
     "execution_count": 4,
     "metadata": {},
     "output_type": "execute_result"
    }
   ],
   "source": [
    "client.fine_tuning.jobs.list_events(fine_tuning_job_id=\"ftjob-ku7ytdtAEdx5jxthRANQTqr0\",limit=5)"
   ]
  },
  {
   "cell_type": "code",
   "execution_count": 7,
   "metadata": {},
   "outputs": [
    {
     "name": "stdout",
     "output_type": "stream",
     "text": [
      "ChatCompletionMessage(content='tech', role='assistant', function_call=None, tool_calls=None, refusal=None)\n"
     ]
    }
   ],
   "source": [
    "completion = client.chat.completions.create(\n",
    "  model=\"ft:gpt-3.5-turbo-0125:bis::9tt19es9\",\n",
    "  messages=[\n",
    "    {\"role\": \"user\", \"content\": \"Classify the articles into these categories: business, entertainment, politics, sport, tech. A new mobile phone is launched\"}\n",
    "  ]\n",
    ")\n",
    "print(completion.choices[0].message)\n"
   ]
  }
 ],
 "metadata": {
  "kernelspec": {
   "display_name": "fine-tune-openai",
   "language": "python",
   "name": "python3"
  },
  "language_info": {
   "codemirror_mode": {
    "name": "ipython",
    "version": 3
   },
   "file_extension": ".py",
   "mimetype": "text/x-python",
   "name": "python",
   "nbconvert_exporter": "python",
   "pygments_lexer": "ipython3",
   "version": "3.10.14"
  }
 },
 "nbformat": 4,
 "nbformat_minor": 4
}
