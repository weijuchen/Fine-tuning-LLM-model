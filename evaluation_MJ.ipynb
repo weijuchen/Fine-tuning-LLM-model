{
 "cells": [
  {
   "cell_type": "code",
   "execution_count": 1,
   "metadata": {},
   "outputs": [],
   "source": [
    "from openai import OpenAI\n",
    "import pandas as pd"
   ]
  },
  {
   "cell_type": "code",
   "execution_count": 5,
   "metadata": {},
   "outputs": [],
   "source": [
    "client = OpenAI()"
   ]
  },
  {
   "cell_type": "code",
   "execution_count": 6,
   "metadata": {},
   "outputs": [],
   "source": [
    "df = pd.read_csv('dataset/test.csv', encoding='unicode_escape')"
   ]
  },
  {
   "cell_type": "code",
   "execution_count": 7,
   "metadata": {},
   "outputs": [],
   "source": [
    "labels = df.iloc[:,1].tolist()\n",
    "texts = df.iloc[:,0].tolist()"
   ]
  },
  {
   "cell_type": "code",
   "execution_count": 8,
   "metadata": {},
   "outputs": [],
   "source": [
    "texts = texts[450:]\n",
    "labels = labels[450:]"
   ]
  },
  {
   "cell_type": "code",
   "execution_count": 9,
   "metadata": {},
   "outputs": [],
   "source": [
    "def inference_for_eval(text, m):\n",
    "    completion = client.chat.completions.create(\n",
    "    model=m,\n",
    "    messages=[\n",
    "        {\"role\": \"system\", \"content\": \"You are a intelligent assistant designed to classify news articles into these categories: business, entertainment, politics, sport, tech.\"},\n",
    "        {\"role\": \"user\", \"content\": text}\n",
    "        ]\n",
    "    )\n",
    "    return completion.choices[0].message.content"
   ]
  },
  {
   "cell_type": "code",
   "execution_count": 11,
   "metadata": {},
   "outputs": [],
   "source": [
    "output = [inference_for_eval(text, \"gpt-3.5-turbo-0125\") for text in texts]"
   ]
  },
  {
   "cell_type": "code",
   "execution_count": 12,
   "metadata": {},
   "outputs": [
    {
     "name": "stdout",
     "output_type": "stream",
     "text": [
      "['This news article falls under the category of \"tech\" as it discusses the development of voice control technology for media players by two US firms, Scansoft and Gracenote.', 'This news article falls under the category of sport.', 'This article falls under the category of sports news as it discusses the potential participation of Olympic champion Hicham El Guerrouj in the world cross country championships, as well as the possibility of Paula Radcliffe also competing in the event.', 'politics', 'This news article would fall under the \"tech\" category as it discusses Google\\'s project to digitize libraries from five academic institutions and make the scanned pages available online for search and reading.', 'This news article belongs to the category of politics.', 'This news article falls under the category of business.', 'The news article is about a tennis match between Andy Roddick and Cyril Saulnier in the final of the SAP Open in San Jose. This falls under the category of sport.', 'This news article falls under the category of sport.', 'The news article is classified as **sport**.']\n"
     ]
    }
   ],
   "source": [
    "print(output[:10])"
   ]
  },
  {
   "cell_type": "code",
   "execution_count": 13,
   "metadata": {},
   "outputs": [],
   "source": [
    "correct_classifications = sum(classification ==label for classification, label in zip(output,labels))"
   ]
  },
  {
   "cell_type": "code",
   "execution_count": 14,
   "metadata": {},
   "outputs": [
    {
     "name": "stdout",
     "output_type": "stream",
     "text": [
      "50\n"
     ]
    }
   ],
   "source": [
    "total_classifications = len(labels)\n",
    "print(total_classifications)"
   ]
  },
  {
   "cell_type": "code",
   "execution_count": 15,
   "metadata": {},
   "outputs": [
    {
     "name": "stdout",
     "output_type": "stream",
     "text": [
      "Accuracy:22.00%\n"
     ]
    }
   ],
   "source": [
    "accuracy_percentage = (correct_classifications/total_classifications)*100\n",
    "print(f\"Accuracy:{accuracy_percentage:.2f}%\")"
   ]
  },
  {
   "cell_type": "code",
   "execution_count": 16,
   "metadata": {},
   "outputs": [],
   "source": [
    "def inference_for_eval(text, m):\n",
    "    completion = client.chat.completions.create(\n",
    "    model=m,\n",
    "    messages=[\n",
    "        {\"role\": \"system\", \"content\": \"You are a intelligent assistant designed to classify news articles into these categories: business, entertainment, politics, sport, tech.Give me the classified category name only in the output\"},\n",
    "        {\"role\": \"user\", \"content\": text}\n",
    "        ]\n",
    "    )\n",
    "    return completion.choices[0].message.content"
   ]
  },
  {
   "cell_type": "code",
   "execution_count": 17,
   "metadata": {},
   "outputs": [],
   "source": [
    "output = [inference_for_eval(text, \"gpt-3.5-turbo-0125\") for text in texts]"
   ]
  },
  {
   "cell_type": "code",
   "execution_count": 18,
   "metadata": {},
   "outputs": [
    {
     "name": "stdout",
     "output_type": "stream",
     "text": [
      "['tech', 'sport', 'sport', 'politics', 'tech', 'politics', 'business', 'sport', 'sport', 'sport']\n"
     ]
    }
   ],
   "source": [
    "print(output[:10])"
   ]
  },
  {
   "cell_type": "code",
   "execution_count": 19,
   "metadata": {},
   "outputs": [],
   "source": [
    "correct_classifications = sum(classification ==label for classification, label in zip(output,labels))"
   ]
  },
  {
   "cell_type": "code",
   "execution_count": 20,
   "metadata": {},
   "outputs": [
    {
     "name": "stdout",
     "output_type": "stream",
     "text": [
      "50\n"
     ]
    }
   ],
   "source": [
    "total_classifications = len(labels)\n",
    "print(total_classifications)"
   ]
  },
  {
   "cell_type": "code",
   "execution_count": 21,
   "metadata": {},
   "outputs": [
    {
     "name": "stdout",
     "output_type": "stream",
     "text": [
      "Accuracy:80.00%\n"
     ]
    }
   ],
   "source": [
    "accuracy_percentage = (correct_classifications/total_classifications)*100\n",
    "print(f\"Accuracy:{accuracy_percentage:.2f}%\")"
   ]
  },
  {
   "cell_type": "code",
   "execution_count": 22,
   "metadata": {},
   "outputs": [],
   "source": [
    "def inference_for_eval(text, m):\n",
    "    completion = client.chat.completions.create(\n",
    "    model=m,\n",
    "    messages=[\n",
    "        {\"role\": \"system\", \"content\": \"You are a intelligent assistant designed to classify news articles into these categories: business, entertainment, politics, sport, tech.\"},\n",
    "        {\"role\": \"user\", \"content\": text}\n",
    "        ]\n",
    "    )\n",
    "    return completion.choices[0].message.content"
   ]
  },
  {
   "cell_type": "code",
   "execution_count": 23,
   "metadata": {},
   "outputs": [],
   "source": [
    "output = [inference_for_eval(text, \"ft:gpt-3.5-turbo-0125:personal::AY1KvgZH\") for text in texts]"
   ]
  },
  {
   "cell_type": "code",
   "execution_count": 24,
   "metadata": {},
   "outputs": [
    {
     "name": "stdout",
     "output_type": "stream",
     "text": [
      "['tech', 'sport', 'sport', 'politics', 'tech', 'politics', 'business', 'sport', 'sport', 'sport']\n"
     ]
    }
   ],
   "source": [
    "print(output[:10])"
   ]
  },
  {
   "cell_type": "code",
   "execution_count": 25,
   "metadata": {},
   "outputs": [],
   "source": [
    "correct_classifications = sum(classification ==label for classification, label in zip(output,labels))"
   ]
  },
  {
   "cell_type": "code",
   "execution_count": 26,
   "metadata": {},
   "outputs": [
    {
     "name": "stdout",
     "output_type": "stream",
     "text": [
      "50\n"
     ]
    }
   ],
   "source": [
    "total_classifications = len(labels)\n",
    "print(total_classifications)"
   ]
  },
  {
   "cell_type": "code",
   "execution_count": 27,
   "metadata": {},
   "outputs": [
    {
     "name": "stdout",
     "output_type": "stream",
     "text": [
      "Accuracy:98.00%\n"
     ]
    }
   ],
   "source": [
    "accuracy_percentage = (correct_classifications/total_classifications)*100\n",
    "print(f\"Accuracy:{accuracy_percentage:.2f}%\")"
   ]
  },
  {
   "cell_type": "code",
   "execution_count": null,
   "metadata": {},
   "outputs": [],
   "source": []
  }
 ],
 "metadata": {
  "kernelspec": {
   "display_name": "fine-tune-openai",
   "language": "python",
   "name": "python3"
  },
  "language_info": {
   "codemirror_mode": {
    "name": "ipython",
    "version": 3
   },
   "file_extension": ".py",
   "mimetype": "text/x-python",
   "name": "python",
   "nbconvert_exporter": "python",
   "pygments_lexer": "ipython3",
   "version": "3.10.14"
  }
 },
 "nbformat": 4,
 "nbformat_minor": 4
}
